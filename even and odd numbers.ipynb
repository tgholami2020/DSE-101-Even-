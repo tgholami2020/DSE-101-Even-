{
 "cells": [
  {
   "cell_type": "code",
   "execution_count": 6,
   "id": "compressed-longer",
   "metadata": {},
   "outputs": [
    {
     "name": "stdout",
     "output_type": "stream",
     "text": [
      "2550\n"
     ]
    }
   ],
   "source": [
    "# total varible to sum the even numbers\n",
    "total =0\n",
    "\n",
    "# for loop to find even numbers\n",
    "for item in range (0,101,2):\n",
    "    # sum each number\n",
    "    total += item\n",
    "#print total\n",
    "print(total)\n"
   ]
  },
  {
   "cell_type": "code",
   "execution_count": null,
   "id": "hispanic-classic",
   "metadata": {},
   "outputs": [],
   "source": []
  },
  {
   "cell_type": "code",
   "execution_count": 7,
   "id": "unlimited-honor",
   "metadata": {},
   "outputs": [
    {
     "name": "stdout",
     "output_type": "stream",
     "text": [
      "2500\n"
     ]
    }
   ],
   "source": [
    "# total varible to sum the odd numbers\n",
    "total =0\n",
    "\n",
    "# for loop to find odd numbers\n",
    "for item in range (1,101,2):\n",
    "    # sum each number\n",
    "    total += item\n",
    "#print total\n",
    "print(total)\n"
   ]
  },
  {
   "cell_type": "code",
   "execution_count": null,
   "id": "comparable-switch",
   "metadata": {},
   "outputs": [],
   "source": []
  }
 ],
 "metadata": {
  "kernelspec": {
   "display_name": "Python 3",
   "language": "python",
   "name": "python3"
  },
  "language_info": {
   "codemirror_mode": {
    "name": "ipython",
    "version": 3
   },
   "file_extension": ".py",
   "mimetype": "text/x-python",
   "name": "python",
   "nbconvert_exporter": "python",
   "pygments_lexer": "ipython3",
   "version": "3.7.8"
  }
 },
 "nbformat": 4,
 "nbformat_minor": 5
}
